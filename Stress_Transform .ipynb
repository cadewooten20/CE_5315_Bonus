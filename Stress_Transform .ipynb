{
 "cells": [
  {
   "cell_type": "code",
   "execution_count": 1,
   "metadata": {},
   "outputs": [
    {
     "data": {
      "text/html": [
       "<div id=\"glowscript\" class=\"glowscript\"></div>"
      ],
      "text/plain": [
       "<IPython.core.display.HTML object>"
      ]
     },
     "metadata": {},
     "output_type": "display_data"
    },
    {
     "data": {
      "application/javascript": [
       "if (typeof Jupyter !== \"undefined\") { window.__context = { glowscript_container: $(\"#glowscript\").removeAttr(\"id\")};}else{ element.textContent = ' ';}"
      ],
      "text/plain": [
       "<IPython.core.display.Javascript object>"
      ]
     },
     "metadata": {},
     "output_type": "display_data"
    },
    {
     "data": {
      "text/html": [
       "<div id=\"glowscript\" class=\"glowscript\"></div>"
      ],
      "text/plain": [
       "<IPython.core.display.HTML object>"
      ]
     },
     "metadata": {},
     "output_type": "display_data"
    },
    {
     "data": {
      "application/javascript": [
       "if (typeof Jupyter !== \"undefined\") { window.__context = { glowscript_container: $(\"#glowscript\").removeAttr(\"id\")};}else{ element.textContent = ' ';}"
      ],
      "text/plain": [
       "<IPython.core.display.Javascript object>"
      ]
     },
     "metadata": {},
     "output_type": "display_data"
    },
    {
     "name": "stdout",
     "output_type": "stream",
     "text": [
      "[[100.  50. -50.]\n",
      " [ 50. 200.   0.]\n",
      " [-50.   0. 200.]]\n",
      "[[109.146  34.149 -59.148]\n",
      " [ 34.149 190.848  34.154]\n",
      " [-59.148  34.154 199.991]]\n"
     ]
    },
    {
     "data": {
      "application/javascript": [
       "if (typeof Jupyter !== \"undefined\") {require.undef(\"nbextensions/vpython_libraries/glow.min\");}else{element.textContent = ' ';}"
      ],
      "text/plain": [
       "<IPython.core.display.Javascript object>"
      ]
     },
     "metadata": {},
     "output_type": "display_data"
    },
    {
     "data": {
      "application/javascript": [
       "if (typeof Jupyter !== \"undefined\") {require.undef(\"nbextensions/vpython_libraries/glowcomm\");}else{element.textContent = ' ';}"
      ],
      "text/plain": [
       "<IPython.core.display.Javascript object>"
      ]
     },
     "metadata": {},
     "output_type": "display_data"
    },
    {
     "data": {
      "application/javascript": [
       "if (typeof Jupyter !== \"undefined\") {require.undef(\"nbextensions/vpython_libraries/jquery-ui.custom.min\");}else{element.textContent = ' ';}"
      ],
      "text/plain": [
       "<IPython.core.display.Javascript object>"
      ]
     },
     "metadata": {},
     "output_type": "display_data"
    },
    {
     "data": {
      "application/javascript": [
       "if (typeof Jupyter !== \"undefined\") {require([\"nbextensions/vpython_libraries/glow.min\"], function(){console.log(\"GLOW LOADED\");});}else{element.textContent = ' ';}"
      ],
      "text/plain": [
       "<IPython.core.display.Javascript object>"
      ]
     },
     "metadata": {},
     "output_type": "display_data"
    },
    {
     "data": {
      "application/javascript": [
       "if (typeof Jupyter !== \"undefined\") {require([\"nbextensions/vpython_libraries/glowcomm\"], function(){console.log(\"GLOWCOMM LOADED\");});}else{element.textContent = ' ';}"
      ],
      "text/plain": [
       "<IPython.core.display.Javascript object>"
      ]
     },
     "metadata": {},
     "output_type": "display_data"
    },
    {
     "data": {
      "application/javascript": [
       "if (typeof Jupyter !== \"undefined\") {require([\"nbextensions/vpython_libraries/jquery-ui.custom.min\"], function(){console.log(\"JQUERY LOADED\");});}else{element.textContent = ' ';}"
      ],
      "text/plain": [
       "<IPython.core.display.Javascript object>"
      ]
     },
     "metadata": {},
     "output_type": "display_data"
    }
   ],
   "source": [
    "# -*- coding: utf-8 -*-\n",
    "\n",
    "import numpy as np\n",
    "from vpython import *\n",
    "scene = canvas()\n",
    "#Class that will encapsulte the stress state (tensor) and also perform operations \n",
    "#to normalize and transform a given matrix\n",
    "class StressState:\n",
    "    \n",
    "    def __init__(self, stress_tensor, orientation_matrix = np.array([[1,0,0],[0,1,0],[0,0,1]])):\n",
    "        \n",
    "        #Initialize the stress tensor variable \n",
    "        self.stress_tensor = stress_tensor\n",
    "        \n",
    "        #Transform the stress tensor, if for some reason the original orientation is not common to the x,y,z axis\n",
    "        self.stress_transform(orientation_matrix.copy())\n",
    "    \n",
    "    #Method to perform a stress transofmation on the Stress State object\n",
    "    #Requires the input of 'orientation matrix', which is an array of the N1,N2 & N3 vectors\n",
    "    def stress_transform(self,orientation_matrix):\n",
    "        \n",
    "        StressState.normalize_vector(orientation_matrix)\n",
    "        \n",
    "        self.orientation_matrix = orientation_matrix.copy()\n",
    "        \n",
    "        #Placeholder variable for the transformed stress matrix\n",
    "        transformed_state = np.zeros((3,3))\n",
    "        \n",
    "        #Variable that will be triggered if the axis of the transformation \n",
    "        #Vectors are not perpendicular \n",
    "        perpendicular = True\n",
    "        \n",
    "        \n",
    "        for i in range (3):  \n",
    "            \n",
    "            #Calculates the transformed stress component (sigma_P) on the new plane normal to N1, N2 or N3.  \n",
    "            sigma = self.stress_tensor.T@self.orientation_matrix[i]\n",
    "            \n",
    "                        \n",
    "            if perpendicular == False:\n",
    "                    break\n",
    "            #Performs the dot product operation to fill out the entire transformed stress matrix            \n",
    "            for j in range (3):\n",
    "                \n",
    "                N = self.orientation_matrix[j]\n",
    "                \n",
    "                if ((round(np.inner(self.orientation_matrix[j-1],self.orientation_matrix[j]),2))) != 0:\n",
    "                    \n",
    "                    print('Stress transformation vectors are not mutually perpendicular\\n'\n",
    "                          + 'No transformation has been made, please try again')\n",
    "                    perpendicular = False\n",
    "                    break\n",
    "                    \n",
    "                transformed_state[i,j] = round(np.inner(sigma,N),3)\n",
    "                \n",
    "        if perpendicular == True:\n",
    "            self.stress_tensor = transformed_state.copy()    \n",
    "            \n",
    "        print(self.stress_tensor)      \n",
    "        \n",
    "    #Method to normalize any orientation matrix passed in \n",
    "    #Goes row by row to normalize N1, N2 & N3\n",
    "    #The matrix is pass by reference, so the method does not need to return anything \n",
    "    #It will change the value of the original matrix passed in from outside the method \n",
    "    def normalize_vector(orientation_matrix):\n",
    "        num_rows = np.shape(orientation_matrix)[0]\n",
    "        num_cols = np.shape(orientation_matrix)[1]\n",
    "        \n",
    "\n",
    "        for i in range(num_rows):\n",
    "            magnitude = np.linalg.norm(orientation_matrix[i])\n",
    "\n",
    "            for j in range(num_cols):\n",
    "                orientation_matrix[i][j] = round((orientation_matrix[i][j]/magnitude),4)\n",
    "                \n",
    "                \n",
    "    def plot_cube(self, origin = vector(0,0,0)):\n",
    "        print('test')\n",
    "            \n",
    " \n",
    "    \n",
    "    \n",
    "stress_tensor = np.array([[100,50,-50],\n",
    "                          [50,200,0],\n",
    "                          [-50,0,200]])\n",
    "\n",
    "n1 = np.array([.866,.25,.433])\n",
    "#n1 = np.array([2,2,1])\n",
    "n2 = np.array([-.5,.433,.75])\n",
    "n3 = np.array([0,-.866,.5])\n",
    "orientation_matrix = np.array([n1,n2,n3])\n",
    "\n",
    "\n",
    "stress_cube = StressState(stress_tensor)\n",
    "\n",
    "stress_cube.stress_transform(orientation_matrix)\n",
    "\n",
    "\n",
    "box(pos=vector(0,0,0), opacity=.3)\n",
    "arrow(pos=vector(0,0,0), axis=vector(1,0,0), shaftwidth = .03, opacity=.3)\n",
    "\n",
    "\n",
    "box(pos=vector(2,0,0),axis=vector(n1[0],n1[1],n1[2]))\n",
    "arrow(pos=vector(2,0,0),axis=vector(n1[0],n1[1],n1[2]),  shaftwidth = .03)\n",
    "\n",
    "\n"
   ]
  },
  {
   "cell_type": "code",
   "execution_count": null,
   "metadata": {},
   "outputs": [],
   "source": []
  }
 ],
 "metadata": {
  "kernelspec": {
   "display_name": "Python 3",
   "language": "python",
   "name": "python3"
  },
  "language_info": {
   "codemirror_mode": {
    "name": "ipython",
    "version": 3
   },
   "file_extension": ".py",
   "mimetype": "text/x-python",
   "name": "python",
   "nbconvert_exporter": "python",
   "pygments_lexer": "ipython3",
   "version": "3.8.5"
  }
 },
 "nbformat": 4,
 "nbformat_minor": 4
}
